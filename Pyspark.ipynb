{
  "nbformat": 4,
  "nbformat_minor": 0,
  "metadata": {
    "colab": {
      "provenance": []
    },
    "kernelspec": {
      "name": "python3",
      "display_name": "Python 3"
    },
    "language_info": {
      "name": "python"
    }
  },
  "cells": [
    {
      "cell_type": "code",
      "execution_count": 14,
      "metadata": {
        "id": "MlTlFEa-Qhxm"
      },
      "outputs": [],
      "source": [
        "#!apt-get install openjdk-8-jdk-headless -qq > /dev/null\n",
        "#!pip install pyspark\n",
        "\n",
        "# install if needed"
      ]
    },
    {
      "cell_type": "code",
      "source": [
        "from pyspark.sql import SparkSession\n",
        "from pyspark.sql.types import StructType, StructField, StringType, IntegerType\n",
        "import random\n",
        "from pyspark.sql import functions as F\n",
        "\n",
        "# Create Spark session\n",
        "spark = SparkSession.builder.master(\"local[*]\").getOrCreate()\n",
        "\n",
        "# Test with a sample DataFrame\n",
        "# Define schema\n",
        "schema = StructType([\n",
        "    StructField(\"Name\", StringType(), True),\n",
        "    StructField(\"Age\", IntegerType(), True),\n",
        "    StructField(\"City\", StringType(), True)\n",
        "])\n",
        "\n",
        "# Create some sample data\n",
        "names = [\"Alice\", \"Bob\", \"Cathy\", \"David\", \"Eva\", \"Frank\", \"Grace\", \"Henry\", \"Ivy\", \"Jack\"]\n",
        "cities = [\"New York\", \"Los Angeles\", \"Chicago\", \"Houston\", \"Phoenix\", \"Philadelphia\", \"San Antonio\", \"San Diego\", \"Dallas\", \"San Jose\"]\n",
        "\n",
        "# Generate 50 rows of random data\n",
        "data = [(random.choice(names), random.randint(20, 60), random.choice(cities)) for _ in range(50)]\n",
        "\n",
        "# Create the DataFrame\n",
        "df = spark.createDataFrame(data, schema)\n",
        "\n",
        "df.show()\n"
      ],
      "metadata": {
        "colab": {
          "base_uri": "https://localhost:8080/"
        },
        "id": "fZlSCCyuQ0tU",
        "outputId": "79cca764-59d2-402a-9e3e-07d28465c19c"
      },
      "execution_count": 15,
      "outputs": [
        {
          "output_type": "stream",
          "name": "stdout",
          "text": [
            "+-----+---+------------+\n",
            "| Name|Age|        City|\n",
            "+-----+---+------------+\n",
            "|Alice| 26|   San Diego|\n",
            "|  Ivy| 25|     Houston|\n",
            "|Grace| 45|     Chicago|\n",
            "|  Ivy| 20| San Antonio|\n",
            "|Henry| 22|   San Diego|\n",
            "| Jack| 44|    San Jose|\n",
            "|Cathy| 22|      Dallas|\n",
            "|David| 53|    New York|\n",
            "|  Bob| 53|    San Jose|\n",
            "|Henry| 41|      Dallas|\n",
            "|  Bob| 46| San Antonio|\n",
            "|  Eva| 28|    San Jose|\n",
            "|Frank| 51| San Antonio|\n",
            "|Grace| 25|      Dallas|\n",
            "|David| 28|Philadelphia|\n",
            "|Henry| 22|      Dallas|\n",
            "|Henry| 55|   San Diego|\n",
            "|David| 33|   San Diego|\n",
            "|Henry| 31|      Dallas|\n",
            "|  Bob| 23|     Phoenix|\n",
            "+-----+---+------------+\n",
            "only showing top 20 rows\n",
            "\n"
          ]
        }
      ]
    },
    {
      "cell_type": "markdown",
      "source": [
        "Spark performs parallel processing on data. It uses concept of HDFC and YARN which are same as in Hadoop"
      ],
      "metadata": {
        "id": "0Uvs_b9W7WkE"
      }
    },
    {
      "cell_type": "code",
      "source": [
        "df.show(5)"
      ],
      "metadata": {
        "colab": {
          "base_uri": "https://localhost:8080/"
        },
        "id": "GGET7NNJbKPr",
        "outputId": "4e47a8cf-3cfc-464e-c995-c0a4b6fe1845"
      },
      "execution_count": 16,
      "outputs": [
        {
          "output_type": "stream",
          "name": "stdout",
          "text": [
            "+-----+---+-----------+\n",
            "| Name|Age|       City|\n",
            "+-----+---+-----------+\n",
            "|Alice| 26|  San Diego|\n",
            "|  Ivy| 25|    Houston|\n",
            "|Grace| 45|    Chicago|\n",
            "|  Ivy| 20|San Antonio|\n",
            "|Henry| 22|  San Diego|\n",
            "+-----+---+-----------+\n",
            "only showing top 5 rows\n",
            "\n"
          ]
        }
      ]
    },
    {
      "cell_type": "code",
      "source": [
        "df = df.withColumnRenamed(\"_3\",\"City\")\n",
        "df.show()"
      ],
      "metadata": {
        "colab": {
          "base_uri": "https://localhost:8080/"
        },
        "id": "JLvoqa-mbOCg",
        "outputId": "f2c8db5e-fc32-4345-8372-28b70b974e39"
      },
      "execution_count": 17,
      "outputs": [
        {
          "output_type": "stream",
          "name": "stdout",
          "text": [
            "+-----+---+------------+\n",
            "| Name|Age|        City|\n",
            "+-----+---+------------+\n",
            "|Alice| 26|   San Diego|\n",
            "|  Ivy| 25|     Houston|\n",
            "|Grace| 45|     Chicago|\n",
            "|  Ivy| 20| San Antonio|\n",
            "|Henry| 22|   San Diego|\n",
            "| Jack| 44|    San Jose|\n",
            "|Cathy| 22|      Dallas|\n",
            "|David| 53|    New York|\n",
            "|  Bob| 53|    San Jose|\n",
            "|Henry| 41|      Dallas|\n",
            "|  Bob| 46| San Antonio|\n",
            "|  Eva| 28|    San Jose|\n",
            "|Frank| 51| San Antonio|\n",
            "|Grace| 25|      Dallas|\n",
            "|David| 28|Philadelphia|\n",
            "|Henry| 22|      Dallas|\n",
            "|Henry| 55|   San Diego|\n",
            "|David| 33|   San Diego|\n",
            "|Henry| 31|      Dallas|\n",
            "|  Bob| 23|     Phoenix|\n",
            "+-----+---+------------+\n",
            "only showing top 20 rows\n",
            "\n"
          ]
        }
      ]
    },
    {
      "cell_type": "code",
      "source": [
        "df = df.filter(df.Age > 30)\n",
        "df.show()"
      ],
      "metadata": {
        "colab": {
          "base_uri": "https://localhost:8080/"
        },
        "id": "Gxh_XgL_Y6Ny",
        "outputId": "7af1b404-acd9-403f-bd2c-aabdf27a0127"
      },
      "execution_count": 18,
      "outputs": [
        {
          "output_type": "stream",
          "name": "stdout",
          "text": [
            "+-----+---+-----------+\n",
            "| Name|Age|       City|\n",
            "+-----+---+-----------+\n",
            "|Grace| 45|    Chicago|\n",
            "| Jack| 44|   San Jose|\n",
            "|David| 53|   New York|\n",
            "|  Bob| 53|   San Jose|\n",
            "|Henry| 41|     Dallas|\n",
            "|  Bob| 46|San Antonio|\n",
            "|Frank| 51|San Antonio|\n",
            "|Henry| 55|  San Diego|\n",
            "|David| 33|  San Diego|\n",
            "|Henry| 31|     Dallas|\n",
            "|Grace| 53|San Antonio|\n",
            "|Grace| 36|   New York|\n",
            "|David| 38|    Phoenix|\n",
            "| Jack| 31|    Chicago|\n",
            "|Frank| 39|   San Jose|\n",
            "|Alice| 39|   New York|\n",
            "|Cathy| 43|    Phoenix|\n",
            "| Jack| 60|   San Jose|\n",
            "|Frank| 42|   San Jose|\n",
            "|Alice| 41|   New York|\n",
            "+-----+---+-----------+\n",
            "only showing top 20 rows\n",
            "\n"
          ]
        }
      ]
    },
    {
      "cell_type": "code",
      "source": [
        "df = df.unionByName(df)\n",
        "df.show()"
      ],
      "metadata": {
        "colab": {
          "base_uri": "https://localhost:8080/"
        },
        "id": "zZcG2OxAZMYK",
        "outputId": "7ed2d86c-1c68-4481-f26a-3c8938582621"
      },
      "execution_count": 19,
      "outputs": [
        {
          "output_type": "stream",
          "name": "stdout",
          "text": [
            "+-----+---+-----------+\n",
            "| Name|Age|       City|\n",
            "+-----+---+-----------+\n",
            "|Grace| 45|    Chicago|\n",
            "| Jack| 44|   San Jose|\n",
            "|David| 53|   New York|\n",
            "|  Bob| 53|   San Jose|\n",
            "|Henry| 41|     Dallas|\n",
            "|  Bob| 46|San Antonio|\n",
            "|Frank| 51|San Antonio|\n",
            "|Henry| 55|  San Diego|\n",
            "|David| 33|  San Diego|\n",
            "|Henry| 31|     Dallas|\n",
            "|Grace| 53|San Antonio|\n",
            "|Grace| 36|   New York|\n",
            "|David| 38|    Phoenix|\n",
            "| Jack| 31|    Chicago|\n",
            "|Frank| 39|   San Jose|\n",
            "|Alice| 39|   New York|\n",
            "|Cathy| 43|    Phoenix|\n",
            "| Jack| 60|   San Jose|\n",
            "|Frank| 42|   San Jose|\n",
            "|Alice| 41|   New York|\n",
            "+-----+---+-----------+\n",
            "only showing top 20 rows\n",
            "\n"
          ]
        }
      ]
    },
    {
      "cell_type": "code",
      "source": [
        "df1 = df.groupby(\"Name\").count()\n",
        "df1.show()"
      ],
      "metadata": {
        "colab": {
          "base_uri": "https://localhost:8080/"
        },
        "id": "4fw_H1cgZshY",
        "outputId": "dca1df0d-1594-4f48-dc32-21a6a364e614"
      },
      "execution_count": 20,
      "outputs": [
        {
          "output_type": "stream",
          "name": "stdout",
          "text": [
            "+-----+-----+\n",
            "| Name|count|\n",
            "+-----+-----+\n",
            "|Grace|   10|\n",
            "| Jack|   10|\n",
            "|  Bob|    4|\n",
            "|David|    8|\n",
            "|Frank|    6|\n",
            "|Henry|    8|\n",
            "|  Ivy|    4|\n",
            "|Alice|    6|\n",
            "|Cathy|    6|\n",
            "+-----+-----+\n",
            "\n"
          ]
        }
      ]
    },
    {
      "cell_type": "code",
      "source": [
        "df1 = df.filter(df[\"Name\"].endswith(\"e\"))\n",
        "df1.show()"
      ],
      "metadata": {
        "colab": {
          "base_uri": "https://localhost:8080/"
        },
        "id": "CRy4EOvZZ4jf",
        "outputId": "cff38821-dddc-4fe2-858c-24b19a9f6a3c"
      },
      "execution_count": 21,
      "outputs": [
        {
          "output_type": "stream",
          "name": "stdout",
          "text": [
            "+-----+---+-----------+\n",
            "| Name|Age|       City|\n",
            "+-----+---+-----------+\n",
            "|Grace| 45|    Chicago|\n",
            "|Grace| 53|San Antonio|\n",
            "|Grace| 36|   New York|\n",
            "|Alice| 39|   New York|\n",
            "|Alice| 41|   New York|\n",
            "|Alice| 48|    Chicago|\n",
            "|Grace| 32|Los Angeles|\n",
            "|Grace| 55|San Antonio|\n",
            "|Grace| 45|    Chicago|\n",
            "|Grace| 53|San Antonio|\n",
            "|Grace| 36|   New York|\n",
            "|Alice| 39|   New York|\n",
            "|Alice| 41|   New York|\n",
            "|Alice| 48|    Chicago|\n",
            "|Grace| 32|Los Angeles|\n",
            "|Grace| 55|San Antonio|\n",
            "+-----+---+-----------+\n",
            "\n"
          ]
        }
      ]
    },
    {
      "cell_type": "code",
      "source": [
        "df.collect()"
      ],
      "metadata": {
        "colab": {
          "base_uri": "https://localhost:8080/"
        },
        "id": "SFyjNfk0agya",
        "outputId": "24a9a52e-be63-42cd-b6b4-c4164650163d"
      },
      "execution_count": 22,
      "outputs": [
        {
          "output_type": "execute_result",
          "data": {
            "text/plain": [
              "[Row(Name='Grace', Age=45, City='Chicago'),\n",
              " Row(Name='Jack', Age=44, City='San Jose'),\n",
              " Row(Name='David', Age=53, City='New York'),\n",
              " Row(Name='Bob', Age=53, City='San Jose'),\n",
              " Row(Name='Henry', Age=41, City='Dallas'),\n",
              " Row(Name='Bob', Age=46, City='San Antonio'),\n",
              " Row(Name='Frank', Age=51, City='San Antonio'),\n",
              " Row(Name='Henry', Age=55, City='San Diego'),\n",
              " Row(Name='David', Age=33, City='San Diego'),\n",
              " Row(Name='Henry', Age=31, City='Dallas'),\n",
              " Row(Name='Grace', Age=53, City='San Antonio'),\n",
              " Row(Name='Grace', Age=36, City='New York'),\n",
              " Row(Name='David', Age=38, City='Phoenix'),\n",
              " Row(Name='Jack', Age=31, City='Chicago'),\n",
              " Row(Name='Frank', Age=39, City='San Jose'),\n",
              " Row(Name='Alice', Age=39, City='New York'),\n",
              " Row(Name='Cathy', Age=43, City='Phoenix'),\n",
              " Row(Name='Jack', Age=60, City='San Jose'),\n",
              " Row(Name='Frank', Age=42, City='San Jose'),\n",
              " Row(Name='Alice', Age=41, City='New York'),\n",
              " Row(Name='Alice', Age=48, City='Chicago'),\n",
              " Row(Name='Henry', Age=55, City='New York'),\n",
              " Row(Name='David', Age=54, City='Houston'),\n",
              " Row(Name='Cathy', Age=45, City='Houston'),\n",
              " Row(Name='Ivy', Age=60, City='New York'),\n",
              " Row(Name='Ivy', Age=46, City='Dallas'),\n",
              " Row(Name='Cathy', Age=37, City='Dallas'),\n",
              " Row(Name='Grace', Age=32, City='Los Angeles'),\n",
              " Row(Name='Jack', Age=36, City='San Jose'),\n",
              " Row(Name='Grace', Age=55, City='San Antonio'),\n",
              " Row(Name='Jack', Age=45, City='San Jose'),\n",
              " Row(Name='Grace', Age=45, City='Chicago'),\n",
              " Row(Name='Jack', Age=44, City='San Jose'),\n",
              " Row(Name='David', Age=53, City='New York'),\n",
              " Row(Name='Bob', Age=53, City='San Jose'),\n",
              " Row(Name='Henry', Age=41, City='Dallas'),\n",
              " Row(Name='Bob', Age=46, City='San Antonio'),\n",
              " Row(Name='Frank', Age=51, City='San Antonio'),\n",
              " Row(Name='Henry', Age=55, City='San Diego'),\n",
              " Row(Name='David', Age=33, City='San Diego'),\n",
              " Row(Name='Henry', Age=31, City='Dallas'),\n",
              " Row(Name='Grace', Age=53, City='San Antonio'),\n",
              " Row(Name='Grace', Age=36, City='New York'),\n",
              " Row(Name='David', Age=38, City='Phoenix'),\n",
              " Row(Name='Jack', Age=31, City='Chicago'),\n",
              " Row(Name='Frank', Age=39, City='San Jose'),\n",
              " Row(Name='Alice', Age=39, City='New York'),\n",
              " Row(Name='Cathy', Age=43, City='Phoenix'),\n",
              " Row(Name='Jack', Age=60, City='San Jose'),\n",
              " Row(Name='Frank', Age=42, City='San Jose'),\n",
              " Row(Name='Alice', Age=41, City='New York'),\n",
              " Row(Name='Alice', Age=48, City='Chicago'),\n",
              " Row(Name='Henry', Age=55, City='New York'),\n",
              " Row(Name='David', Age=54, City='Houston'),\n",
              " Row(Name='Cathy', Age=45, City='Houston'),\n",
              " Row(Name='Ivy', Age=60, City='New York'),\n",
              " Row(Name='Ivy', Age=46, City='Dallas'),\n",
              " Row(Name='Cathy', Age=37, City='Dallas'),\n",
              " Row(Name='Grace', Age=32, City='Los Angeles'),\n",
              " Row(Name='Jack', Age=36, City='San Jose'),\n",
              " Row(Name='Grace', Age=55, City='San Antonio'),\n",
              " Row(Name='Jack', Age=45, City='San Jose')]"
            ]
          },
          "metadata": {},
          "execution_count": 22
        }
      ]
    },
    {
      "cell_type": "markdown",
      "source": [
        "**Sparks performs parallel processing with help of HDFS and YARN.\n",
        "They are the same methods of Hadoop. The advantage of Spark over Hadoop is real time processing whereas Hadoop performs batch processing**"
      ],
      "metadata": {
        "id": "D8f7zmc378CY"
      }
    },
    {
      "cell_type": "markdown",
      "source": [
        "They are two types of variables for helping spark in parallel processing:\n",
        "1. Broadcast  2. Accumulator"
      ],
      "metadata": {
        "id": "kHxK3BcR8qIS"
      }
    },
    {
      "cell_type": "code",
      "source": [
        "df.show(5)"
      ],
      "metadata": {
        "colab": {
          "base_uri": "https://localhost:8080/"
        },
        "id": "HHmpdlV-7u7O",
        "outputId": "2915ae09-aebb-4fe3-c8c4-af978e4a532c"
      },
      "execution_count": 24,
      "outputs": [
        {
          "output_type": "stream",
          "name": "stdout",
          "text": [
            "+-----+---+--------+\n",
            "| Name|Age|    City|\n",
            "+-----+---+--------+\n",
            "|Grace| 45| Chicago|\n",
            "| Jack| 44|San Jose|\n",
            "|David| 53|New York|\n",
            "|  Bob| 53|San Jose|\n",
            "|Henry| 41|  Dallas|\n",
            "+-----+---+--------+\n",
            "only showing top 5 rows\n",
            "\n"
          ]
        }
      ]
    },
    {
      "cell_type": "code",
      "source": [
        "df.describe() # to know data types of columns"
      ],
      "metadata": {
        "colab": {
          "base_uri": "https://localhost:8080/"
        },
        "id": "FYizKAkEIRsF",
        "outputId": "df9690d9-f51e-476c-9918-c6db37c95548"
      },
      "execution_count": 25,
      "outputs": [
        {
          "output_type": "execute_result",
          "data": {
            "text/plain": [
              "DataFrame[summary: string, Name: string, Age: string, City: string]"
            ]
          },
          "metadata": {},
          "execution_count": 25
        }
      ]
    },
    {
      "cell_type": "code",
      "source": [
        "(df.filter(df[\"Name\"].isNull())).show() # to know null value in  df"
      ],
      "metadata": {
        "colab": {
          "base_uri": "https://localhost:8080/"
        },
        "id": "Vgk1t26VIZOg",
        "outputId": "b898d546-c2e2-43ef-fc08-db39d9838325"
      },
      "execution_count": 30,
      "outputs": [
        {
          "output_type": "stream",
          "name": "stdout",
          "text": [
            "+----+---+----+\n",
            "|Name|Age|City|\n",
            "+----+---+----+\n",
            "+----+---+----+\n",
            "\n"
          ]
        }
      ]
    },
    {
      "cell_type": "code",
      "source": [
        "print(df.filter(df[\"Name\"].startswith(\"A\")).show())\n",
        "print(df.filter(df[\"Name\"].endswith(\"y\")).show())\n",
        "print(df.filter(df[\"Name\"].contains(\"b\")).show())\n",
        "\n"
      ],
      "metadata": {
        "colab": {
          "base_uri": "https://localhost:8080/"
        },
        "id": "oiRfEce8JF4d",
        "outputId": "2c019a44-1582-4c59-a3f2-9738a65cd344"
      },
      "execution_count": 38,
      "outputs": [
        {
          "output_type": "stream",
          "name": "stdout",
          "text": [
            "+-----+---+--------+\n",
            "| Name|Age|    City|\n",
            "+-----+---+--------+\n",
            "|Alice| 39|New York|\n",
            "|Alice| 41|New York|\n",
            "|Alice| 48| Chicago|\n",
            "|Alice| 39|New York|\n",
            "|Alice| 41|New York|\n",
            "|Alice| 48| Chicago|\n",
            "+-----+---+--------+\n",
            "\n",
            "None\n",
            "+-----+---+---------+\n",
            "| Name|Age|     City|\n",
            "+-----+---+---------+\n",
            "|Henry| 41|   Dallas|\n",
            "|Henry| 55|San Diego|\n",
            "|Henry| 31|   Dallas|\n",
            "|Cathy| 43|  Phoenix|\n",
            "|Henry| 55| New York|\n",
            "|Cathy| 45|  Houston|\n",
            "|  Ivy| 60| New York|\n",
            "|  Ivy| 46|   Dallas|\n",
            "|Cathy| 37|   Dallas|\n",
            "|Henry| 41|   Dallas|\n",
            "|Henry| 55|San Diego|\n",
            "|Henry| 31|   Dallas|\n",
            "|Cathy| 43|  Phoenix|\n",
            "|Henry| 55| New York|\n",
            "|Cathy| 45|  Houston|\n",
            "|  Ivy| 60| New York|\n",
            "|  Ivy| 46|   Dallas|\n",
            "|Cathy| 37|   Dallas|\n",
            "+-----+---+---------+\n",
            "\n",
            "None\n",
            "+----+---+-----------+\n",
            "|Name|Age|       City|\n",
            "+----+---+-----------+\n",
            "| Bob| 53|   San Jose|\n",
            "| Bob| 46|San Antonio|\n",
            "| Bob| 53|   San Jose|\n",
            "| Bob| 46|San Antonio|\n",
            "+----+---+-----------+\n",
            "\n",
            "None\n",
            "+-----+---+-----------+\n",
            "| Name|Age|       City|\n",
            "+-----+---+-----------+\n",
            "|Grace| 45|    Chicago|\n",
            "| Jack| 44|   San Jose|\n",
            "|David| 53|   New York|\n",
            "|  Bob| 53|   San Jose|\n",
            "|Henry| 41|     Dallas|\n",
            "|  Bob| 46|San Antonio|\n",
            "|Frank| 51|San Antonio|\n",
            "|Henry| 55|  San Diego|\n",
            "|David| 33|  San Diego|\n",
            "|Henry| 31|     Dallas|\n",
            "|Grace| 53|San Antonio|\n",
            "|Grace| 36|   New York|\n",
            "|David| 38|    Phoenix|\n",
            "| Jack| 31|    Chicago|\n",
            "|Frank| 39|   San Jose|\n",
            "|Alice| 39|   New York|\n",
            "|Cathy| 43|    Phoenix|\n",
            "| Jack| 60|   San Jose|\n",
            "|Frank| 42|   San Jose|\n",
            "|Alice| 41|   New York|\n",
            "+-----+---+-----------+\n",
            "only showing top 20 rows\n",
            "\n",
            "None\n"
          ]
        }
      ]
    },
    {
      "cell_type": "code",
      "source": [
        "df.filter(df[\"Name\"]>=\"Ab\").show()\n"
      ],
      "metadata": {
        "colab": {
          "base_uri": "https://localhost:8080/"
        },
        "id": "z_kW5vHwKFpf",
        "outputId": "61f6c8c2-6919-4100-877d-bb4aea693d73"
      },
      "execution_count": 52,
      "outputs": [
        {
          "output_type": "stream",
          "name": "stdout",
          "text": [
            "+-----+---+-----------+\n",
            "| Name|Age|       City|\n",
            "+-----+---+-----------+\n",
            "|Grace| 45|    Chicago|\n",
            "| Jack| 44|   San Jose|\n",
            "|David| 53|   New York|\n",
            "|  Bob| 53|   San Jose|\n",
            "|Henry| 41|     Dallas|\n",
            "|  Bob| 46|San Antonio|\n",
            "|Frank| 51|San Antonio|\n",
            "|Henry| 55|  San Diego|\n",
            "|David| 33|  San Diego|\n",
            "|Henry| 31|     Dallas|\n",
            "|Grace| 53|San Antonio|\n",
            "|Grace| 36|   New York|\n",
            "|David| 38|    Phoenix|\n",
            "| Jack| 31|    Chicago|\n",
            "|Frank| 39|   San Jose|\n",
            "|Alice| 39|   New York|\n",
            "|Cathy| 43|    Phoenix|\n",
            "| Jack| 60|   San Jose|\n",
            "|Frank| 42|   San Jose|\n",
            "|Alice| 41|   New York|\n",
            "+-----+---+-----------+\n",
            "only showing top 20 rows\n",
            "\n"
          ]
        }
      ]
    },
    {
      "cell_type": "code",
      "source": [
        "df.select([\"Name\",\"Age\",\"City\"]).where(df[\"Age\"]>30).show(5)"
      ],
      "metadata": {
        "colab": {
          "base_uri": "https://localhost:8080/"
        },
        "id": "yU5ULneEMeEe",
        "outputId": "7a11d123-6d02-4e1b-b644-7e88e2c916c2"
      },
      "execution_count": 54,
      "outputs": [
        {
          "output_type": "stream",
          "name": "stdout",
          "text": [
            "+-----+---+--------+\n",
            "| Name|Age|    City|\n",
            "+-----+---+--------+\n",
            "|Grace| 45| Chicago|\n",
            "| Jack| 44|San Jose|\n",
            "|David| 53|New York|\n",
            "|  Bob| 53|San Jose|\n",
            "|Henry| 41|  Dallas|\n",
            "+-----+---+--------+\n",
            "only showing top 5 rows\n",
            "\n"
          ]
        }
      ]
    },
    {
      "cell_type": "code",
      "source": [
        "df.select([\"City\"]).where(df[\"Age\"]>30).groupby(df[\"City\"]).count().show()\n"
      ],
      "metadata": {
        "colab": {
          "base_uri": "https://localhost:8080/"
        },
        "id": "IJbsEs8ZMwMV",
        "outputId": "2e24fee4-fbb2-45df-dd63-be61f5fcd58a"
      },
      "execution_count": 60,
      "outputs": [
        {
          "output_type": "stream",
          "name": "stdout",
          "text": [
            "+-----------+-----+\n",
            "|       City|count|\n",
            "+-----------+-----+\n",
            "|    Phoenix|    4|\n",
            "|     Dallas|    8|\n",
            "|San Antonio|    8|\n",
            "|  San Diego|    4|\n",
            "|    Chicago|    6|\n",
            "|   San Jose|   14|\n",
            "|   New York|   12|\n",
            "|Los Angeles|    2|\n",
            "|    Houston|    4|\n",
            "+-----------+-----+\n",
            "\n"
          ]
        }
      ]
    },
    {
      "cell_type": "code",
      "source": [
        "df.select([\"City\"]).where((df[\"Age\"]>20) & (df[\"Age\"]<=40)).distinct().orderBy(df[\"City\"]).show()\n"
      ],
      "metadata": {
        "colab": {
          "base_uri": "https://localhost:8080/"
        },
        "id": "ZxPS1uMLNUxw",
        "outputId": "2f7c6972-1f02-4af2-87c7-c3925aae6a1c"
      },
      "execution_count": 69,
      "outputs": [
        {
          "output_type": "stream",
          "name": "stdout",
          "text": [
            "+-----------+\n",
            "|       City|\n",
            "+-----------+\n",
            "|    Chicago|\n",
            "|     Dallas|\n",
            "|Los Angeles|\n",
            "|   New York|\n",
            "|    Phoenix|\n",
            "|  San Diego|\n",
            "|   San Jose|\n",
            "+-----------+\n",
            "\n"
          ]
        }
      ]
    },
    {
      "cell_type": "code",
      "source": [
        "df.select([\"City\"]).where(df[\"Age\"]>30).distinct().orderBy(F.length(df[\"City\"])).show()\n"
      ],
      "metadata": {
        "colab": {
          "base_uri": "https://localhost:8080/"
        },
        "id": "KSP52u3MN6YN",
        "outputId": "3147e604-ab59-45ae-9a8e-cc0537ddfd3f"
      },
      "execution_count": 71,
      "outputs": [
        {
          "output_type": "stream",
          "name": "stdout",
          "text": [
            "+-----------+\n",
            "|       City|\n",
            "+-----------+\n",
            "|     Dallas|\n",
            "|    Phoenix|\n",
            "|    Chicago|\n",
            "|    Houston|\n",
            "|   San Jose|\n",
            "|   New York|\n",
            "|  San Diego|\n",
            "|San Antonio|\n",
            "|Los Angeles|\n",
            "+-----------+\n",
            "\n"
          ]
        }
      ]
    },
    {
      "cell_type": "code",
      "source": [
        "df.select([\"City\"]).where(df[\"Age\"]>30).distinct().orderBy(F.substring(df[\"City\"],1,4)).show() # sorting on basis of first 4 letters of City column\n"
      ],
      "metadata": {
        "colab": {
          "base_uri": "https://localhost:8080/"
        },
        "id": "3w43jlzuO2RZ",
        "outputId": "c9eb5895-54db-432f-8edd-97ba1a06e42b"
      },
      "execution_count": 73,
      "outputs": [
        {
          "output_type": "stream",
          "name": "stdout",
          "text": [
            "+-----------+\n",
            "|       City|\n",
            "+-----------+\n",
            "|    Chicago|\n",
            "|     Dallas|\n",
            "|    Houston|\n",
            "|Los Angeles|\n",
            "|   New York|\n",
            "|    Phoenix|\n",
            "|San Antonio|\n",
            "|  San Diego|\n",
            "|   San Jose|\n",
            "+-----------+\n",
            "\n"
          ]
        }
      ]
    },
    {
      "cell_type": "code",
      "source": [],
      "metadata": {
        "id": "-P4TRu-APLl4"
      },
      "execution_count": null,
      "outputs": []
    }
  ]
}